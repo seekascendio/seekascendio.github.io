{
 "cells": [
  {
   "cell_type": "markdown",
   "metadata": {},
   "source": [
    "---\n",
    "layout: post\n",
    "title: Gerating \n",
    "#subtitle: Each post also has a subtitle\n",
    "categories: Logistic Analytics\n",
    "tags: [Analytics]\n",
    "date: 2024-07-29\n",
    "\n",
    "---"
   ]
  },
  {
   "cell_type": "markdown",
   "metadata": {},
   "source": [
    "[Luma AI](https://lumalabs.ai/) is a company that offers cutting-edge tools for 3D content generation, utilizing AI to create high-quality videos and 3D images. Their platform is particularly useful for industries like film, animation, game development, and advertising. Luma AI allows users to generate realistic 3D assets and videos from text or image inputs, providing cinematic camera movements and ensuring physical accuracy. The technology is aimed at making 3D content creation more accessible, offering rapid prototyping and consistent outputs in creative fields\n",
    "\n",
    "# Generating Videos via API prompt\n",
    "This codes explains how to generated images by connecting via API with a prompt"
   ]
  },
  {
   "cell_type": "code",
   "execution_count": 6,
   "metadata": {},
   "outputs": [
    {
     "name": "stdout",
     "output_type": "stream",
     "text": [
      "Dreaming\n",
      "Dreaming\n",
      "Dreaming\n",
      "Dreaming\n",
      "Dreaming\n",
      "Dreaming\n",
      "Dreaming\n",
      "Dreaming\n",
      "Dreaming\n",
      "Dreaming\n",
      "Dreaming\n",
      "Dreaming\n",
      "Dreaming\n",
      "Dreaming\n",
      "Dreaming\n",
      "File downloaded as f83e332c-22cb-4223-b362-503a21ef23fa.mp4\n"
     ]
    }
   ],
   "source": [
    "#!pip install lumaai\n",
    "import requests\n",
    "import time\n",
    "from lumaai import LumaAI\n",
    "import requests\n",
    "from io import BytesIO\n",
    "from PIL import Image\n",
    "import matplotlib.pyplot as plt\n",
    "import time\n",
    "\n",
    "token = 'your token'\n",
    "client = LumaAI(auth_token=token,)\n",
    "\n",
    "def generate_luma(prt):\n",
    "    generation = client.generations.create(\n",
    "      prompt=prt)\n",
    "    completed = False\n",
    "    while not completed:\n",
    "      generation = client.generations.get(id=generation.id)\n",
    "      if generation.state == \"completed\":\n",
    "        completed = True\n",
    "      elif generation.state == \"failed\":\n",
    "        raise RuntimeError(f\"Generation failed: {generation.failure_reason}\")\n",
    "      print(\"Dreaming\")\n",
    "      time.sleep(3)\n",
    "\n",
    "    video_url = generation.assets.video\n",
    "\n",
    "    # download the video\n",
    "    response = requests.get(video_url, stream=True)\n",
    "    with open(f'{generation.id}.mp4', 'wb') as file:\n",
    "        file.write(response.content)\n",
    "    print(f\"File downloaded as {generation.id}.mp4\")\n",
    "\n",
    "#prompt=\"A Capybara with sunglasses playing electric guitar and dancing inside a pool surrounded by flying ballons \"\n",
    "prompt = \"  Five 40 feet Containers falling slowly from the attached to parachutes to a green ground field. Close oup view. The sky is blue with some white clouds. Sunny day.\"\n",
    "generate_luma(prompt)"
   ]
  }
 ],
 "metadata": {
  "kernelspec": {
   "display_name": "Python 3",
   "language": "python",
   "name": "python3"
  },
  "language_info": {
   "codemirror_mode": {
    "name": "ipython",
    "version": 3
   },
   "file_extension": ".py",
   "mimetype": "text/x-python",
   "name": "python",
   "nbconvert_exporter": "python",
   "pygments_lexer": "ipython3",
   "version": "3.7.10"
  },
  "toc": {
   "base_numbering": 1,
   "nav_menu": {},
   "number_sections": true,
   "sideBar": true,
   "skip_h1_title": true,
   "title_cell": "Table of Contents",
   "title_sidebar": "Contents",
   "toc_cell": false,
   "toc_position": {},
   "toc_section_display": true,
   "toc_window_display": false
  }
 },
 "nbformat": 4,
 "nbformat_minor": 5
}
